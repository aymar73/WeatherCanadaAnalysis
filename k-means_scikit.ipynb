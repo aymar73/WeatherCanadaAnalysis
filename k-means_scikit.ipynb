{
 "cells": [
  {
   "cell_type": "markdown",
   "metadata": {},
   "source": [
    "#Cluster analysis in Python\n",
    "\n",
    "##k-means using scikit-learn¶\n",
    "\n",
    "Created by: Saeed Aghabozorgi, Polong Lin"
   ]
  },
  {
   "cell_type": "markdown",
   "metadata": {},
   "source": [
    "### 1-Initialize the environment and import the required modules"
   ]
  },
  {
   "cell_type": "code",
   "execution_count": null,
   "metadata": {
    "collapsed": false
   },
   "outputs": [],
   "source": [
    "%matplotlib inline\n",
    "import numpy as np\n",
    "import matplotlib.pyplot as plt\n",
    "from sklearn.cluster import KMeans"
   ]
  },
  {
   "cell_type": "markdown",
   "metadata": {},
   "source": [
    "### 2- Download data into your Data Scientist Workbench"
   ]
  },
  {
   "cell_type": "code",
   "execution_count": null,
   "metadata": {
    "collapsed": false
   },
   "outputs": [],
   "source": [
    "!wget -O /resources/data2d.csv https://ibm.box.com/shared/static/nbin9unisgcfmxk9ig31af24p7te0teg.csv"
   ]
  },
  {
   "cell_type": "markdown",
   "metadata": {},
   "source": [
    "#### 3- Read in the data, `data2d.csv`, and convert it into a numpy array:"
   ]
  },
  {
   "cell_type": "code",
   "execution_count": null,
   "metadata": {
    "collapsed": false
   },
   "outputs": [],
   "source": [
    "# To read data\n",
    "datafile=[]\n",
    "with open(\"/resources/data2d.csv\") as inputfile:\n",
    "    for line in inputfile:\n",
    "        words = line.strip().split(',')\n",
    "        datafile.append(words)\n",
    "\n",
    "dataSet=np.asarray(datafile, dtype = float)  \n",
    "dataSet[0:5]"
   ]
  },
  {
   "cell_type": "markdown",
   "metadata": {},
   "source": [
    "#### 4-Plotting the raw data:"
   ]
  },
  {
   "cell_type": "code",
   "execution_count": null,
   "metadata": {
    "collapsed": false
   },
   "outputs": [],
   "source": [
    "fig = plt.figure(1)\n",
    "plt.clf()\n",
    "plt.scatter(dataSet[:, 0], dataSet[:, 1], s=30,alpha=0.5, lw = 0)\n",
    "plt.xlabel('Blood Pressure'),plt.ylabel('BMI')\n",
    "plt.show()"
   ]
  },
  {
   "cell_type": "markdown",
   "metadata": {},
   "source": [
    "#### 6- Running the Kmeans clustering algorithm:"
   ]
  },
  {
   "cell_type": "code",
   "execution_count": null,
   "metadata": {
    "collapsed": false
   },
   "outputs": [],
   "source": [
    "clusters = 3\n",
    "est=KMeans(n_clusters= clusters)\n",
    "est.fit(dataSet)\n",
    "labels = est.labels_\n",
    "print(labels)"
   ]
  },
  {
   "cell_type": "markdown",
   "metadata": {},
   "source": [
    "#### 7- Visualize the clusters:"
   ]
  },
  {
   "cell_type": "code",
   "execution_count": null,
   "metadata": {
    "collapsed": false
   },
   "outputs": [],
   "source": [
    "# To visualize the clusters\n",
    "fig = plt.figure(1)\n",
    "plt.clf()\n",
    "plt.scatter(dataSet[:, 0], dataSet[:, 1], c=labels.astype(np.float),s=30,alpha=0.5, lw = 0)\n",
    "plt.xlabel('Height'),plt.ylabel('Weight')\n",
    "plt.show()"
   ]
  }
 ],
 "metadata": {
  "kernelspec": {
   "display_name": "Python 2",
   "language": "python",
   "name": "python2"
  },
  "language_info": {
   "codemirror_mode": {
    "name": "ipython",
    "version": 2
   },
   "file_extension": ".py",
   "mimetype": "text/x-python",
   "name": "python",
   "nbconvert_exporter": "python",
   "pygments_lexer": "ipython2",
   "version": "2.7.10"
  }
 },
 "nbformat": 4,
 "nbformat_minor": 0
}
